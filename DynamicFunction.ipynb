{
 "cells": [
  {
   "cell_type": "code",
   "execution_count": 2,
   "metadata": {},
   "outputs": [],
   "source": [
    "def rerata (*dinamik):\n",
    "    sum=0\n",
    "    i=0\n",
    "    for data in dinamik:\n",
    "        sum+=data\n",
    "        i+=1\n",
    "    rata2=sum/i\n",
    "    print(\"Rata-ratanya: \", rata2)"
   ]
  },
  {
   "cell_type": "code",
   "execution_count": 38,
   "metadata": {},
   "outputs": [
    {
     "name": "stdout",
     "output_type": "stream",
     "text": [
      "Rata-ratanya:  5.1\n",
      "Rata-ratanya:  3.0\n"
     ]
    }
   ],
   "source": [
    "rerata(1,2,3,4,5,6,6,7,8,9)\n",
    "\n",
    "rerata(2,4)"
   ]
  },
  {
   "cell_type": "code",
   "execution_count": 4,
   "metadata": {},
   "outputs": [
    {
     "name": "stdout",
     "output_type": "stream",
     "text": [
      "halohalohalohalohalohalo\n"
     ]
    }
   ],
   "source": [
    "print(\"halo\"*6)"
   ]
  },
  {
   "cell_type": "code",
   "execution_count": 5,
   "metadata": {},
   "outputs": [
    {
     "name": "stdout",
     "output_type": "stream",
     "text": [
      "****\n"
     ]
    }
   ],
   "source": [
    "print(\"*\"*4)"
   ]
  },
  {
   "cell_type": "code",
   "execution_count": 15,
   "metadata": {},
   "outputs": [],
   "source": [
    "def segitigabintang(b1):\n",
    "    for i in range (b1+1):\n",
    "        print(\"*\"*i)"
   ]
  },
  {
   "cell_type": "code",
   "execution_count": 16,
   "metadata": {},
   "outputs": [
    {
     "name": "stdout",
     "output_type": "stream",
     "text": [
      "\n",
      "*\n",
      "**\n",
      "***\n",
      "****\n",
      "*****\n"
     ]
    }
   ],
   "source": [
    "segitigabintang(5)"
   ]
  },
  {
   "cell_type": "code",
   "execution_count": 23,
   "metadata": {},
   "outputs": [
    {
     "name": "stdout",
     "output_type": "stream",
     "text": [
      "jambu\n",
      "5\n",
      "2\n"
     ]
    }
   ],
   "source": [
    "myList=[1,2,3, 'mangga','jambu','salak']\n",
    "print(myList[4])\n",
    "print(myList[2]+myList[1])\n",
    "print(myList[-5])"
   ]
  },
  {
   "cell_type": "code",
   "execution_count": 31,
   "metadata": {},
   "outputs": [
    {
     "name": "stdout",
     "output_type": "stream",
     "text": [
      "['apel', 'jeruk', 'mangga']\n",
      "['jeruk', 'mangga']\n",
      "['apel', 'jeruk', 'mangga', 'durian', 'salak', 'duku']\n",
      "['apel', 'jeruk', 'mangga', 'durian']\n"
     ]
    }
   ],
   "source": [
    "buah=['apel','jeruk', 'mangga', 'durian', 'salak', 'duku']\n",
    "print(buah[0:3])\n",
    "print(buah[1:3])\n",
    "print(buah[0:])\n",
    "print(buah[:4])"
   ]
  },
  {
   "cell_type": "code",
   "execution_count": 32,
   "metadata": {},
   "outputs": [
    {
     "name": "stdout",
     "output_type": "stream",
     "text": [
      "['apel', 'anggur', 'mangga', 'durian', 'salak', 'duku']\n"
     ]
    }
   ],
   "source": [
    "buah[1]='anggur'\n",
    "print(buah)"
   ]
  },
  {
   "cell_type": "code",
   "execution_count": 33,
   "metadata": {},
   "outputs": [
    {
     "name": "stdout",
     "output_type": "stream",
     "text": [
      "['apel', 'anggur', 'mangga', 'durian', 'melon', 'duku']\n"
     ]
    }
   ],
   "source": [
    "buah[-2]='melon'\n",
    "print(buah)"
   ]
  },
  {
   "cell_type": "code",
   "execution_count": 34,
   "metadata": {},
   "outputs": [
    {
     "name": "stdout",
     "output_type": "stream",
     "text": [
      "3\n"
     ]
    }
   ],
   "source": [
    "print(buah.index('durian'))"
   ]
  },
  {
   "cell_type": "code",
   "execution_count": 37,
   "metadata": {},
   "outputs": [
    {
     "name": "stdout",
     "output_type": "stream",
     "text": [
      "True\n",
      "False\n",
      "True\n"
     ]
    }
   ],
   "source": [
    "print('salak' not in buah)\n",
    "print('durian' not in buah)\n",
    "print('duku' in buah)"
   ]
  },
  {
   "cell_type": "code",
   "execution_count": null,
   "metadata": {},
   "outputs": [],
   "source": []
  }
 ],
 "metadata": {
  "kernelspec": {
   "display_name": "Python 3",
   "language": "python",
   "name": "python3"
  },
  "language_info": {
   "codemirror_mode": {
    "name": "ipython",
    "version": 3
   },
   "file_extension": ".py",
   "mimetype": "text/x-python",
   "name": "python",
   "nbconvert_exporter": "python",
   "pygments_lexer": "ipython3",
   "version": "3.8.3"
  }
 },
 "nbformat": 4,
 "nbformat_minor": 4
}
